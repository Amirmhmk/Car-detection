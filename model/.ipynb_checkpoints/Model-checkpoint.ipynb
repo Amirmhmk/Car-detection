{
 "cells": [
  {
   "cell_type": "code",
   "execution_count": 1,
   "id": "c7eeae20",
   "metadata": {},
   "outputs": [],
   "source": [
    "from ultralytics import YOLO\n"
   ]
  },
  {
   "cell_type": "code",
   "execution_count": 2,
   "id": "3aff6ea6",
   "metadata": {},
   "outputs": [],
   "source": [
    "import pandas as pd\n",
    "import numpy "
   ]
  },
  {
   "cell_type": "code",
   "execution_count": null,
   "id": "cdd5354c",
   "metadata": {},
   "outputs": [
    {
     "name": "stdout",
     "output_type": "stream",
     "text": [
      "Downloading https://github.com/ultralytics/assets/releases/download/v8.2.0/yolov8n-seg.pt to 'yolov8n-seg.pt'...\n"
     ]
    },
    {
     "name": "stderr",
     "output_type": "stream",
     "text": [
      " 65%|█████████████████████████████████████████████████▉                           | 4.38M/6.74M [01:22<01:29, 27.8kB/s]"
     ]
    }
   ],
   "source": [
    "model = YOLO('yolov8n-seg.pt')\n",
    "\n",
    "result = model.track(source = 'C:/Users/Amiram/Desktop/imageprocessing/project/test/testvideo3_1.mp4'   , save=True, conf = 0.3  , iou = 0.5,  save_dir='C:/Users/Amiram/Desktop/imageprocessing/project/')\n"
   ]
  },
  {
   "cell_type": "code",
   "execution_count": 50,
   "id": "3d2d82c4",
   "metadata": {},
   "outputs": [],
   "source": [
    "things_df = pd.DataFrame()\n",
    "for frame in result:\n",
    "    a=frame.boxes.data\n",
    "    a = a.detach().cpu().numpy()  # added this line\n",
    "    px=pd.DataFrame(a).astype(\"float\")\n",
    "    things_df = pd.concat([things_df , px] , ignore_index=True)"
   ]
  },
  {
   "cell_type": "code",
   "execution_count": 51,
   "id": "7f1ab06d",
   "metadata": {},
   "outputs": [],
   "source": [
    "things = things_df.groupby(4)[[6]].mean()"
   ]
  },
  {
   "cell_type": "code",
   "execution_count": 52,
   "id": "90b63f35",
   "metadata": {},
   "outputs": [],
   "source": [
    "carsID = []\n",
    "trucksID = []\n",
    "busesID = []\n",
    "number_of_ID = int(things.index[len(things) -1]) + 1\n",
    "for i in range (1 , number_of_ID ):\n",
    "    thing = things_df[things_df[4] == i]\n",
    "    temp = thing.groupby(6)[[6]].count()\n",
    "    temp= temp.rename_axis(None)\n",
    "    temp = temp.sort_values(by = [6])\n",
    "    if len(temp) == 0 :\n",
    "        continue\n",
    "    typ = temp.index[len(temp) -1]\n",
    "    if typ == 2:\n",
    "        carsID.append(i)\n",
    "    elif typ == 5:\n",
    "        busesID.append(i)\n",
    "    elif typ == 7:\n",
    "        trucksID.append(i)"
   ]
  },
  {
   "cell_type": "code",
   "execution_count": 54,
   "id": "4ad02939",
   "metadata": {},
   "outputs": [
    {
     "name": "stdout",
     "output_type": "stream",
     "text": [
      "[1, 2, 3, 4, 5, 6, 7, 8, 9, 12, 14, 15, 16]\n",
      "[]\n",
      "[]\n"
     ]
    }
   ],
   "source": [
    "print(carsID) \n",
    "print(trucksID)\n",
    "print(busesID)"
   ]
  }
 ],
 "metadata": {
  "kernelspec": {
   "display_name": "Python 3 (ipykernel)",
   "language": "python",
   "name": "python3"
  },
  "language_info": {
   "codemirror_mode": {
    "name": "ipython",
    "version": 3
   },
   "file_extension": ".py",
   "mimetype": "text/x-python",
   "name": "python",
   "nbconvert_exporter": "python",
   "pygments_lexer": "ipython3",
   "version": "3.11.3"
  }
 },
 "nbformat": 4,
 "nbformat_minor": 5
}
