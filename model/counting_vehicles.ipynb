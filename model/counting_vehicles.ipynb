{
  "nbformat": 4,
  "nbformat_minor": 0,
  "metadata": {
    "colab": {
      "provenance": []
    },
    "kernelspec": {
      "name": "python3",
      "display_name": "Python 3"
    },
    "language_info": {
      "name": "python"
    }
  },
  "cells": [
    {
      "cell_type": "markdown",
      "source": [
        "#Running yolov8 model in track mode on a video\n",
        "\n"
      ],
      "metadata": {
        "id": "Kp3cOx4C2ihO"
      }
    },
    {
      "cell_type": "code",
      "execution_count": null,
      "metadata": {
        "id": "_yzLbo8a16VP"
      },
      "outputs": [],
      "source": [
        "from ultralytics import YOLO\n",
        "import pandas as pd\n",
        "import numpy"
      ]
    },
    {
      "cell_type": "code",
      "source": [
        "model = YOLO(\"yolov8x.pt\")"
      ],
      "metadata": {
        "id": "U4pqbK7v2ABB"
      },
      "execution_count": null,
      "outputs": []
    },
    {
      "cell_type": "code",
      "source": [
        "result = model.track(source = '/content/output_video2.mp4'   , save=True, conf = 0.3  , iou = 0.5,  save_dir='/content/final_output_video.mp4')"
      ],
      "metadata": {
        "id": "jxiItKMl2A3r"
      },
      "execution_count": null,
      "outputs": []
    },
    {
      "cell_type": "markdown",
      "source": [
        "#then writing vehicle IDs"
      ],
      "metadata": {
        "id": "I0oHbpta4nxD"
      }
    },
    {
      "cell_type": "code",
      "source": [
        "things_df = pd.DataFrame()\n",
        "for frame in result:\n",
        "    a=frame.boxes.data\n",
        "    a = a.detach().cpu().numpy()  # added this line\n",
        "    px=pd.DataFrame(a).astype(\"float\")\n",
        "    things_df = pd.concat([things_df , px] , ignore_index=True)"
      ],
      "metadata": {
        "id": "VqKDRj6Q2A-f"
      },
      "execution_count": null,
      "outputs": []
    },
    {
      "cell_type": "code",
      "source": [
        "things = things_df.groupby(4)[[6]].mean()"
      ],
      "metadata": {
        "id": "mZwkWLtS2BA4"
      },
      "execution_count": null,
      "outputs": []
    },
    {
      "cell_type": "code",
      "source": [
        "carsID = []\n",
        "trucksID = []\n",
        "busesID = []\n",
        "number_of_ID = int(things.index[len(things) -1]) + 1\n",
        "for i in range (1 , number_of_ID ):\n",
        "    thing = things_df[things_df[4] == i]\n",
        "    temp = thing.groupby(6)[[6]].count()\n",
        "    temp= temp.rename_axis(None)\n",
        "    temp = temp.sort_values(by = [6])\n",
        "    if len(temp) == 0 :\n",
        "        continue\n",
        "    typ = temp.index[len(temp) -1]\n",
        "    if typ == 2:\n",
        "        carsID.append(i)\n",
        "    elif typ == 5:\n",
        "        busesID.append(i)\n",
        "    elif typ == 7:\n",
        "        trucksID.append(i)"
      ],
      "metadata": {
        "id": "FemIdErW2Kd2"
      },
      "execution_count": null,
      "outputs": []
    },
    {
      "cell_type": "code",
      "source": [
        "print(\"ID of cars:\" , carsID)\n",
        "print(\"ID of truks:\" ,trucksID)\n",
        "print(\"ID of bus:\" ,busesID)\n",
        "print(\"number of cars:\" , len(carsID))\n",
        "print(\"number of buses:\" , len(busesID))\n",
        "print(\"number of trucks:\" , len(trucksID))"
      ],
      "metadata": {
        "id": "Fii13pG42Man"
      },
      "execution_count": null,
      "outputs": []
    }
  ]
}